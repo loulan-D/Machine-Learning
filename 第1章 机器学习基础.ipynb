{
 "cells": [
  {
   "cell_type": "markdown",
   "metadata": {},
   "source": [
    "### 1.分类\n",
    "\n",
    "#### 1.1监督学习一般使用两种类型的目标变量：\n",
    "- 标称型：标称型目标变量的结果只在有限目标集中取值，如真和假等\n",
    "- 数值型：数值型目标变量的结果可以从无限的数值集合中取值"
   ]
  },
  {
   "cell_type": "markdown",
   "metadata": {},
   "source": [
    "#### 1.2 何谓机器学习\n",
    "\n",
    "专业术语：\n",
    "如表1-1是包含六个训练样本的训练集，每个训练样本有4个特征、一个目标变量。\n",
    "\n",
    "![表1-1](./image/表1-1%20基于4种特征的鸟物种分类表.png)\n",
    "\n",
    "- 特征\n",
    "- 训练样本\n",
    "- 训练集: 用于训练机器学习算法的数据样本集合\n",
    "- 目标变量（类别）：机器学习算法的预测结果。\n",
    "\n",
    "特征或者属性通常是训练样本集的列，它们是独立测量得到的结果，多个特征联系在一起共同组成一个训练样本。\n",
    "\n",
    "用于执行分类、回归、聚类和密度估计的机器学习算法\n",
    "![用于执行分类、回归、聚类和密度估计的机器学习算法](./image/表1-2用于执行分类、回归、聚类和密度估计的机器学习算法.png)"
   ]
  },
  {
   "cell_type": "markdown",
   "metadata": {
    "ExecuteTime": {
     "end_time": "2019-07-07T12:24:50.104913Z",
     "start_time": "2019-07-07T12:24:49.952442Z"
    }
   },
   "source": [
    "#### 1.3 无监督学习\n",
    "无监督学习，此时数据没有类别信息，也不会给定目标值。\n",
    "- 聚类：在无监督学习中，将数据集合分成由类似的对象组成的多个类的过程称为聚类；\n",
    "- 密度估计：将寻找描述数据统计值的过程称为密度估计"
   ]
  },
  {
   "cell_type": "markdown",
   "metadata": {},
   "source": [
    "#### 1.4 如何选择合适的算法\n",
    "选择实际可用的算法，必须考虑下面两个问题：\n",
    "- 使用机器学习算法的目的，想要算法完成何种任务\n",
    "- 需要分析或收集的数据是什么\n",
    "\n",
    "##### 1.4.1 使用机器学习算法的目的\n",
    "\n",
    "如果想要预测目标变量的值，可以选择监督学习算法，否则选择无监督学习算法。确定选择监督学习算法之后，需要进一步确定目标变量类型，如果目标变量是离散值，选择分类算法；如果目标变量是连续值，选择回归算法；\n",
    "\n",
    "如果不想预测目标变量的值，则可以选择无监督学习算法。进一步分析是否需要将数据划分为离散的组。如果这是唯一的要求，则使用聚类算法；如果还需要估计与每个分组的相似程度，则需要使用密度估计算法。\n",
    "\n",
    "##### 1.4.2 分析收集的数据\n",
    "\n",
    "我们应该充分了解数据，主要了解数据的以下特性：\n",
    "- 特征值是离散值变量还是连续型变量；\n",
    "- 特征值中是否存在缺失的值，何种原因造成缺失值；\n",
    "- 数据中是否存在异常值\n",
    "- 某个特征发生的概率如何"
   ]
  },
  {
   "cell_type": "markdown",
   "metadata": {},
   "source": [
    "#### 1.5 开发机器学习应用程序的步骤\n",
    "1. 收集数据；\n",
    "2. 准备输入数据；\n",
    "3. 分析输入数据；\n",
    "4. 训练算法；\n",
    "    - 如果使用无监督学习算法，由于不存在目标变量值，故而也不需要训练算法，所有与算法相关的内容都集中在第5步\n",
    "5. 测试算法；\n",
    "6. 使用算法；"
   ]
  },
  {
   "cell_type": "code",
   "execution_count": null,
   "metadata": {},
   "outputs": [],
   "source": []
  }
 ],
 "metadata": {
  "kernelspec": {
   "display_name": "Maching Learning",
   "language": "python",
   "name": "maching-learning"
  },
  "language_info": {
   "codemirror_mode": {
    "name": "ipython",
    "version": 3
   },
   "file_extension": ".py",
   "mimetype": "text/x-python",
   "name": "python",
   "nbconvert_exporter": "python",
   "pygments_lexer": "ipython3",
   "version": "3.7.1"
  },
  "toc": {
   "base_numbering": 1,
   "nav_menu": {},
   "number_sections": true,
   "sideBar": true,
   "skip_h1_title": false,
   "title_cell": "Table of Contents",
   "title_sidebar": "Contents",
   "toc_cell": false,
   "toc_position": {},
   "toc_section_display": true,
   "toc_window_display": false
  }
 },
 "nbformat": 4,
 "nbformat_minor": 2
}
